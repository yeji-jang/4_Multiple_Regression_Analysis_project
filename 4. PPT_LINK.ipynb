{
 "cells": [
  {
   "attachments": {},
   "cell_type": "markdown",
   "metadata": {},
   "source": [
    "PPT 링크"
   ]
  },
  {
   "cell_type": "code",
   "execution_count": 2,
   "metadata": {},
   "outputs": [
    {
     "data": {
      "text/plain": [
       "'https://www.canva.com/design/DAFkA7Ut6b4/aTnduBgVEzixyht_nEv8Hw/view?utm_content=DAFkA7Ut6b4&utm_campaign=designshare&utm_medium=link&utm_source=viewer'"
      ]
     },
     "execution_count": 2,
     "metadata": {},
     "output_type": "execute_result"
    }
   ],
   "source": [
    "\n",
    "\"https://www.canva.com/design/DAFkA7Ut6b4/aTnduBgVEzixyht_nEv8Hw/view?utm_content=DAFkA7Ut6b4&utm_campaign=share_your_design&utm_medium=link&utm_source=shareyourdesignpanel\""
   ]
  }
 ],
 "metadata": {
  "kernelspec": {
   "display_name": "Data Analysis",
   "language": "python",
   "name": "data_analysis"
  },
  "language_info": {
   "codemirror_mode": {
    "name": "ipython",
    "version": 3
   },
   "file_extension": ".py",
   "mimetype": "text/x-python",
   "name": "python",
   "nbconvert_exporter": "python",
   "pygments_lexer": "ipython3",
   "version": "3.8.16"
  },
  "orig_nbformat": 4
 },
 "nbformat": 4,
 "nbformat_minor": 2
}
